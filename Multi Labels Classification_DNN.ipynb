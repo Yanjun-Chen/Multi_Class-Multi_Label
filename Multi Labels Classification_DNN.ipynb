{
 "cells": [
  {
   "cell_type": "code",
   "execution_count": null,
   "metadata": {
    "collapsed": true
   },
   "outputs": [],
   "source": [
    "#Input data\n",
    "\n",
    "import numpy as np\n",
    "import pandas as pd\n",
    "import math\n",
    "\n",
    "pd_order = pd.read_csv('multi_allcity.csv',sep='\\t',dtype={'temp_b1.week_behavior':'str'})\n",
    "print(pd_order)"
   ]
  },
  {
   "cell_type": "code",
   "execution_count": null,
   "metadata": {
    "collapsed": true
   },
   "outputs": [],
   "source": [
    "from sklearn import preprocessing\n",
    "from sklearn.preprocessing import Imputer\n",
    "from sklearn.preprocessing import StandardScaler\n",
    "\n",
    "#Standardization\n",
    "scaler= StandardScaler()\n",
    "x_initial = Imputer().fit_transform(x_initial)\n",
    "X=scaler.fit_transform(x_initial)\n",
    "\n",
    "\n",
    "from keras.utils.np_utils import to_categorical\n",
    "#One hot for labels\n",
    "one_hot_train_labels= to_categorical(y)\n"
   ]
  },
  {
   "cell_type": "code",
   "execution_count": null,
   "metadata": {
    "collapsed": true
   },
   "outputs": [],
   "source": [
    "train_x=X[160000:]\n",
    "test_x=X[:160000]\n",
    "train_y=one_hot_train_labels[160000:]\n",
    "test_y=one_hot_train_labels[:160000]"
   ]
  },
  {
   "cell_type": "code",
   "execution_count": null,
   "metadata": {
    "collapsed": true
   },
   "outputs": [],
   "source": [
    "# Build model\n",
    "\n",
    "from keras import models\n",
    "from keras import layers\n",
    "from keras.layers import Dropout\n",
    "\n",
    "model=models.Sequential()\n",
    "model.add(layers.Dense(300,activation='relu',input_shape=(209,)))\n",
    "#model.add(Dropout(0.1, input_shape=(250,)))\n",
    "model.add(layers.Dense(250,activation='relu'))\n",
    "model.add(layers.Dense(200,activation='relu'))\n",
    "model.add(layers.Dense(150,activation='relu'))\n",
    "model.add(layers.Dense(80,activation='relu'))\n",
    "model.add(layers.Dense(25,activation='relu'))\n",
    "model.add(Dropout(0.1, input_shape=(25,)))\n",
    "model.add(layers.Dense(7,activation='softmax'))\n",
    "\n",
    "model.compile(optimizer='rmsprop',loss='categorical_crossentropy',metrics=['accuracy'])\n",
    "history=model.fit(train_x,train_y,epochs=20,batch_size=1000,validation_data=(test_x,test_y))\n"
   ]
  },
  {
   "cell_type": "code",
   "execution_count": null,
   "metadata": {
    "collapsed": true
   },
   "outputs": [],
   "source": [
    "#plot the training process\n",
    "\n",
    "import matplotlib.pyplot as plt\n",
    "\n",
    "acc=history.history['acc']\n",
    "val_acc=history.history['val_acc']\n",
    "epochs=range(1,len(acc)+1)\n",
    "\n",
    "plt.plot(epochs,acc,'bo',label='training acc')\n",
    "plt.plot(epochs,val_acc,'b',label='val acc')\n",
    "plt.xlabel('epoches')\n",
    "plt.ylabel('accuracy')\n",
    "plt.lengend()\n",
    "\n",
    "plt.show()"
   ]
  }
 ],
 "metadata": {
  "kernelspec": {
   "display_name": "Python 3",
   "language": "python",
   "name": "python3"
  },
  "language_info": {
   "codemirror_mode": {
    "name": "ipython",
    "version": 3
   },
   "file_extension": ".py",
   "mimetype": "text/x-python",
   "name": "python",
   "nbconvert_exporter": "python",
   "pygments_lexer": "ipython3",
   "version": "3.6.3"
  }
 },
 "nbformat": 4,
 "nbformat_minor": 2
}
